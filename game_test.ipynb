{
 "cells": [
  {
   "cell_type": "markdown",
   "metadata": {},
   "source": [
    "# Game Test"
   ]
  },
  {
   "cell_type": "code",
   "execution_count": 1,
   "metadata": {},
   "outputs": [],
   "source": [
    "import card_effects\n",
    "import functions\n",
    "import json\n",
    "import lib"
   ]
  },
  {
   "cell_type": "code",
   "execution_count": 2,
   "metadata": {},
   "outputs": [],
   "source": [
    "# CONFIGS #\n",
    "\n",
    "card_database = 'card_database.json'\n",
    "deck_database = 'deck_database.json'\n",
    "hand_size = 4"
   ]
  },
  {
   "cell_type": "markdown",
   "metadata": {},
   "source": [
    "## loading all cards and decks objects"
   ]
  },
  {
   "cell_type": "code",
   "execution_count": 3,
   "metadata": {},
   "outputs": [
    {
     "name": "stdout",
     "output_type": "stream",
     "text": [
      "\n",
      "loading deck: WILD\n",
      "----  inserted: Pidgeon x3\n",
      "----  inserted: Wolf x12\n",
      "----  inserted: Turtle x10\n",
      "cards: ['Pidgeon(^)[1/1]', 'Pidgeon(^)[1/1]', 'Pidgeon(^)[1/1]', 'Wolf()[1/1]', 'Wolf()[1/1]', 'Wolf()[1/1]', 'Wolf()[1/1]', 'Wolf()[1/1]', 'Wolf()[1/1]', 'Wolf()[1/1]', 'Wolf()[1/1]', 'Wolf()[1/1]', 'Wolf()[1/1]', 'Wolf()[1/1]', 'Wolf()[1/1]', 'Turtle()[0/2]', 'Turtle()[0/2]', 'Turtle()[0/2]', 'Turtle()[0/2]', 'Turtle()[0/2]', 'Turtle()[0/2]', 'Turtle()[0/2]', 'Turtle()[0/2]', 'Turtle()[0/2]', 'Turtle()[0/2]']\n",
      "\n",
      "loading deck: GOBLIN\n",
      "----  inserted: Goblin x25\n",
      "cards: ['Goblin(>)[1/1]', 'Goblin(>)[1/1]', 'Goblin(>)[1/1]', 'Goblin(>)[1/1]', 'Goblin(>)[1/1]', 'Goblin(>)[1/1]', 'Goblin(>)[1/1]', 'Goblin(>)[1/1]', 'Goblin(>)[1/1]', 'Goblin(>)[1/1]', 'Goblin(>)[1/1]', 'Goblin(>)[1/1]', 'Goblin(>)[1/1]', 'Goblin(>)[1/1]', 'Goblin(>)[1/1]', 'Goblin(>)[1/1]', 'Goblin(>)[1/1]', 'Goblin(>)[1/1]', 'Goblin(>)[1/1]', 'Goblin(>)[1/1]', 'Goblin(>)[1/1]', 'Goblin(>)[1/1]', 'Goblin(>)[1/1]', 'Goblin(>)[1/1]', 'Goblin(>)[1/1]']\n",
      "\n",
      "loading deck: ERRORDECK\n",
      "----  inserted: Pidgeon x15\n",
      "---- not found: missingno\n",
      "cards: ['Pidgeon(^)[1/1]', 'Pidgeon(^)[1/1]', 'Pidgeon(^)[1/1]', 'Pidgeon(^)[1/1]', 'Pidgeon(^)[1/1]', 'Pidgeon(^)[1/1]', 'Pidgeon(^)[1/1]', 'Pidgeon(^)[1/1]', 'Pidgeon(^)[1/1]', 'Pidgeon(^)[1/1]', 'Pidgeon(^)[1/1]', 'Pidgeon(^)[1/1]', 'Pidgeon(^)[1/1]', 'Pidgeon(^)[1/1]', 'Pidgeon(^)[1/1]', 'None', 'None', 'None', 'None', 'None', 'None', 'None', 'None', 'None', 'None']\n"
     ]
    }
   ],
   "source": [
    "#functions.load_cards(card_database)\n",
    "functions.load_decks(deck_database)"
   ]
  },
  {
   "cell_type": "markdown",
   "metadata": {},
   "source": [
    "#### testing cards"
   ]
  },
  {
   "cell_type": "code",
   "execution_count": 4,
   "metadata": {},
   "outputs": [
    {
     "name": "stdout",
     "output_type": "stream",
     "text": [
      "Pidgeon [1,1] : fly\n",
      "Pidgeon [1,1] : fly\n",
      "Pidgeon [1,1] : fly\n",
      "Wolf [1,1] \n",
      "Wolf [1,1] \n",
      "Wolf [1,1] \n",
      "Wolf [1,1] \n",
      "Wolf [1,1] \n",
      "Wolf [1,1] \n",
      "Wolf [1,1] \n",
      "Wolf [1,1] \n",
      "Wolf [1,1] \n",
      "Wolf [1,1] \n",
      "Wolf [1,1] \n",
      "Wolf [1,1] \n",
      "Turtle [0,2] \n",
      "Turtle [0,2] \n",
      "Turtle [0,2] \n",
      "Turtle [0,2] \n",
      "Turtle [0,2] \n",
      "Turtle [0,2] \n",
      "Turtle [0,2] \n",
      "Turtle [0,2] \n",
      "Turtle [0,2] \n",
      "Turtle [0,2] \n",
      "Goblin [1,1] : fast\n",
      "Goblin [1,1] : fast\n",
      "Goblin [1,1] : fast\n",
      "Goblin [1,1] : fast\n",
      "Goblin [1,1] : fast\n",
      "Goblin [1,1] : fast\n",
      "Goblin [1,1] : fast\n",
      "Goblin [1,1] : fast\n",
      "Goblin [1,1] : fast\n",
      "Goblin [1,1] : fast\n",
      "Goblin [1,1] : fast\n",
      "Goblin [1,1] : fast\n",
      "Goblin [1,1] : fast\n",
      "Goblin [1,1] : fast\n",
      "Goblin [1,1] : fast\n",
      "Goblin [1,1] : fast\n",
      "Goblin [1,1] : fast\n",
      "Goblin [1,1] : fast\n",
      "Goblin [1,1] : fast\n",
      "Goblin [1,1] : fast\n",
      "Goblin [1,1] : fast\n",
      "Goblin [1,1] : fast\n",
      "Goblin [1,1] : fast\n",
      "Goblin [1,1] : fast\n",
      "Goblin [1,1] : fast\n",
      "Pidgeon [1,1] : fly\n",
      "Pidgeon [1,1] : fly\n",
      "Pidgeon [1,1] : fly\n",
      "Pidgeon [1,1] : fly\n",
      "Pidgeon [1,1] : fly\n",
      "Pidgeon [1,1] : fly\n",
      "Pidgeon [1,1] : fly\n",
      "Pidgeon [1,1] : fly\n",
      "Pidgeon [1,1] : fly\n",
      "Pidgeon [1,1] : fly\n",
      "Pidgeon [1,1] : fly\n",
      "Pidgeon [1,1] : fly\n",
      "Pidgeon [1,1] : fly\n",
      "Pidgeon [1,1] : fly\n",
      "Pidgeon [1,1] : fly\n"
     ]
    }
   ],
   "source": [
    "for c in lib.Card.card_list:\n",
    "    if c.effects:\n",
    "        eff = ': '+', '.join(c.effects)\n",
    "    else:\n",
    "        eff = \"\"\n",
    "    print(c.name,f\"[{c.atk},{c.defense}]\",eff)"
   ]
  },
  {
   "cell_type": "markdown",
   "metadata": {},
   "source": [
    "#### testing decks"
   ]
  },
  {
   "cell_type": "code",
   "execution_count": 5,
   "metadata": {},
   "outputs": [
    {
     "name": "stdout",
     "output_type": "stream",
     "text": [
      "Wild: Pidgeon(^)[1/1], Wolf()[1/1], Turtle()[0/2]\n",
      "Goblin: Goblin(>)[1/1]\n",
      "Errordeck: Pidgeon(^)[1/1], None\n"
     ]
    }
   ],
   "source": [
    "for d in lib.Deck.deck_list:\n",
    "    cardnames = [str(c) for c in d.cards]\n",
    "    unique = list(set(cardnames))\n",
    "    text = ', '.join(unique)\n",
    "    print(f\"{d.name}: {text}\")"
   ]
  },
  {
   "cell_type": "markdown",
   "metadata": {},
   "source": [
    "## Setting up a table"
   ]
  },
  {
   "cell_type": "code",
   "execution_count": 6,
   "metadata": {},
   "outputs": [],
   "source": [
    "p1 = lib.Deck.search_deck('wild')\n",
    "pc = lib.Deck.search_deck('goblin')"
   ]
  },
  {
   "cell_type": "code",
   "execution_count": 7,
   "metadata": {},
   "outputs": [],
   "source": [
    "table = lib.Table(p1,pc)"
   ]
  },
  {
   "cell_type": "markdown",
   "metadata": {},
   "source": [
    "## Simulating a turn"
   ]
  },
  {
   "cell_type": "markdown",
   "metadata": {},
   "source": [
    "#### Flipping a coin:"
   ]
  },
  {
   "cell_type": "code",
   "execution_count": 8,
   "metadata": {},
   "outputs": [],
   "source": [
    "from random import randint"
   ]
  },
  {
   "cell_type": "code",
   "execution_count": 9,
   "metadata": {},
   "outputs": [],
   "source": [
    "first_player = [p1,pc][randint(0,1)]"
   ]
  },
  {
   "cell_type": "code",
   "execution_count": 10,
   "metadata": {},
   "outputs": [
    {
     "data": {
      "text/plain": [
       "'Goblin'"
      ]
     },
     "execution_count": 10,
     "metadata": {},
     "output_type": "execute_result"
    }
   ],
   "source": [
    "first_player.name"
   ]
  },
  {
   "cell_type": "markdown",
   "metadata": {},
   "source": [
    "#### Buy 4 cards from deck to hand"
   ]
  },
  {
   "cell_type": "code",
   "execution_count": 11,
   "metadata": {},
   "outputs": [],
   "source": [
    "for i in range(hand_size):\n",
    "    first_player.hand.buy()"
   ]
  },
  {
   "cell_type": "markdown",
   "metadata": {},
   "source": [
    "#### Seeing cards in hand"
   ]
  },
  {
   "cell_type": "code",
   "execution_count": 12,
   "metadata": {},
   "outputs": [
    {
     "name": "stdout",
     "output_type": "stream",
     "text": [
      "Goblin(>)[1/1]\n",
      "Goblin(>)[1/1]\n",
      "Goblin(>)[1/1]\n",
      "Goblin(>)[1/1]\n"
     ]
    }
   ],
   "source": [
    "print(str(first_player.hand))"
   ]
  },
  {
   "cell_type": "code",
   "execution_count": null,
   "metadata": {},
   "outputs": [],
   "source": []
  }
 ],
 "metadata": {
  "kernelspec": {
   "display_name": "Python 3",
   "language": "python",
   "name": "python3"
  },
  "language_info": {
   "codemirror_mode": {
    "name": "ipython",
    "version": 3
   },
   "file_extension": ".py",
   "mimetype": "text/x-python",
   "name": "python",
   "nbconvert_exporter": "python",
   "pygments_lexer": "ipython3",
   "version": "3.6.9"
  }
 },
 "nbformat": 4,
 "nbformat_minor": 4
}
