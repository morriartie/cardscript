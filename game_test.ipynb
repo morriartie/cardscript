{
 "cells": [
  {
   "cell_type": "markdown",
   "metadata": {},
   "source": [
    "# Game Test"
   ]
  },
  {
   "cell_type": "code",
   "execution_count": 5,
   "metadata": {},
   "outputs": [],
   "source": [
    "import card_effects\n",
    "import functions\n",
    "import json\n",
    "import lib"
   ]
  },
  {
   "cell_type": "code",
   "execution_count": 2,
   "metadata": {},
   "outputs": [],
   "source": [
    "# CONFIGS #\n",
    "\n",
    "card_database = 'card_database.json'\n",
    "deck_database = 'deck_database.json'\n",
    "hand_size = 4"
   ]
  },
  {
   "cell_type": "markdown",
   "metadata": {},
   "source": [
    "## loading all cards and decks objects"
   ]
  },
  {
   "cell_type": "code",
   "execution_count": 3,
   "metadata": {},
   "outputs": [
    {
     "name": "stdout",
     "output_type": "stream",
     "text": [
      "loaded card: WOLF\n",
      "loaded card: TURTLE\n",
      "loaded card: PIDGEON\n",
      "\n",
      "loading deck: WILD\n",
      "----  inserted: Pidgeon x3\n",
      "----  inserted: Wolf x12\n",
      "----  inserted: Turtle x10\n",
      "\n",
      "loading deck: ERRORDECK\n",
      "----  inserted: Pidgeon x15\n",
      "---- not found: missingno\n"
     ]
    }
   ],
   "source": [
    "functions.load_cards(card_database)\n",
    "functions.load_decks(deck_database)"
   ]
  },
  {
   "cell_type": "markdown",
   "metadata": {},
   "source": [
    "#### testing"
   ]
  },
  {
   "cell_type": "code",
   "execution_count": 4,
   "metadata": {},
   "outputs": [
    {
     "name": "stdout",
     "output_type": "stream",
     "text": [
      "Wolf [1,1] \n",
      "Turtle [0,2] \n",
      "Pidgeon [1,1] : fly\n"
     ]
    }
   ],
   "source": [
    "for c in lib.Card.card_list:\n",
    "    if c.effects:\n",
    "        eff = ': '+', '.join(c.effects)\n",
    "    else:\n",
    "        eff = \"\"\n",
    "    print(c.name,f\"[{c.atk},{c.defense}]\",eff)"
   ]
  },
  {
   "cell_type": "code",
   "execution_count": null,
   "metadata": {},
   "outputs": [],
   "source": []
  },
  {
   "cell_type": "code",
   "execution_count": null,
   "metadata": {},
   "outputs": [],
   "source": []
  }
 ],
 "metadata": {
  "kernelspec": {
   "display_name": "Python 3",
   "language": "python",
   "name": "python3"
  },
  "language_info": {
   "codemirror_mode": {
    "name": "ipython",
    "version": 3
   },
   "file_extension": ".py",
   "mimetype": "text/x-python",
   "name": "python",
   "nbconvert_exporter": "python",
   "pygments_lexer": "ipython3",
   "version": "3.6.9"
  }
 },
 "nbformat": 4,
 "nbformat_minor": 4
}
